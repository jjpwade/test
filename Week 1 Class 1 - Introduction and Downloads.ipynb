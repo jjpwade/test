{
 "cells": [
  {
   "cell_type": "markdown",
   "metadata": {},
   "source": [
    "# Welcome to ECON 490: Applied Machine Learning in Economics\n",
    "\n",
    "## Program Downloads and Initial Setup\n",
    "\n",
    "This course uses is based around the textbook [An Intoduction to Statistical Learning: with Applications in R](http://faculty.marshall.usc.edu/gareth-james/ISL/) by Gareth James, Daniela Witten, Trevor Hastie, and Robert Tibshirani. Time permitting, there will be additional material covering various types of neural networks (NN) and natural language processing (NLP).\n",
    "\n",
    "The first step is to the latest [download R](https://cloud.r-project.org/) if you don't already have the latest version. Because R has a gross graphical interface, we will then [download RStudio](https://rstudio.com/products/rstudio/download/). If you are new to R, don't worry about any coding yet. However, do note that I personally do all of my coding in RStudio.\n",
    "\n",
    "Since a significant portion of data science is sharing your results in an easy to replicate fashion, data scientists overwhelmingly share their code via Jupyter Notebooks. Jupyer was originally intend for the languages Julia, Python, and R (hence the name \"Jupyter\"), but can now handle just about any programming language you can think of. You can either use Jupyter Notebooks through the command prompt--which is a bit messy--or we can do set it up through Anaconda. So, go ahead and [download Anaconda](https://www.anaconda.com/products/individual) as well.\n",
    "\n",
    "Open \"Anaconda Navigator (Anaconda3)\". You will see several applications. The base version of Jupyter Notebook only has Python loaded. We will need to add R. To do so click on \"Environments\" on the left panel. Then click on \"Create\", name the new environment something like \"R\" or \"R Jupyter\" or \"Box for my imaginary friends\", then click the R select box, and finally click create. Swap back over to the \"Home\" tab and then launch Jupter Notebook. \n",
    "\n",
    "*Note: you must select this environment every time you reopen anaconda.*\n",
    "\n",
    "![](R_Jupyter.png)\n",
    "\n",
    "Then Jupyter Notebook will open in your internet browser under the domain: localhost:8888/tree/. Either in Jupyter or via your file explorer, set up the location where you want to save your notebooks for the semester. Navigate to that folder in Jupyter Notebook. On the top right select the \"new\" dropdown menu and click \"R\" under notebook.\n",
    "\n",
    "Then you should have a line, like the one below:"
   ]
  },
  {
   "cell_type": "code",
   "execution_count": null,
   "metadata": {},
   "outputs": [],
   "source": []
  },
  {
   "cell_type": "markdown",
   "metadata": {},
   "source": [
    "It is time to bring your program to life. Type print('hello world') and hit ctrl-enter to run the line"
   ]
  },
  {
   "cell_type": "code",
   "execution_count": 1,
   "metadata": {},
   "outputs": [
    {
     "name": "stdout",
     "output_type": "stream",
     "text": [
      "[1] \"hello world\"\n"
     ]
    }
   ],
   "source": [
    "print('hello world')"
   ]
  },
  {
   "cell_type": "markdown",
   "metadata": {},
   "source": [
    "We will cover more with Juypter Notebooks next class."
   ]
  }
 ],
 "metadata": {
  "kernelspec": {
   "display_name": "R",
   "language": "R",
   "name": "ir"
  },
  "language_info": {
   "codemirror_mode": "r",
   "file_extension": ".r",
   "mimetype": "text/x-r-source",
   "name": "R",
   "pygments_lexer": "r",
   "version": "4.0.0"
  }
 },
 "nbformat": 4,
 "nbformat_minor": 4
}
